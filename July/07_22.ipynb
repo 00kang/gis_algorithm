{
  "nbformat": 4,
  "nbformat_minor": 0,
  "metadata": {
    "colab": {
      "name": "07/22.ipynb",
      "provenance": [],
      "collapsed_sections": [],
      "authorship_tag": "ABX9TyOivK0puVDa8/lA8Ik+lgg5",
      "include_colab_link": true
    },
    "kernelspec": {
      "name": "python3",
      "display_name": "Python 3"
    },
    "language_info": {
      "name": "python"
    }
  },
  "cells": [
    {
      "cell_type": "markdown",
      "metadata": {
        "id": "view-in-github",
        "colab_type": "text"
      },
      "source": [
        "<a href=\"https://colab.research.google.com/github/00kang/gis_algorithm/blob/main/July/07_22.ipynb\" target=\"_parent\"><img src=\"https://colab.research.google.com/assets/colab-badge.svg\" alt=\"Open In Colab\"/></a>"
      ]
    },
    {
      "cell_type": "code",
      "metadata": {
        "colab": {
          "base_uri": "https://localhost:8080/"
        },
        "id": "b0T1E2sZXhbD",
        "outputId": "ffc85a3d-1172-47bf-af4e-d9775d6f5a14"
      },
      "source": [
        "def insertion_sort(num_list):\n",
        "    for x in range(1, len(num_list)):\n",
        "        for y in range(x, 0, -1):\n",
        "            if num_list[y] <num_list[y-1]:\n",
        "                temp = num_list[y]\n",
        "                num_list[y] = num_list[y-1]\n",
        "                num_list[y-1] = temp\n",
        "\n",
        "    return num_list\n",
        "\n",
        "\n",
        "def selection_sort(num_list):\n",
        "    idx = 0\n",
        "    for x in range(len(num_list)):\n",
        "        min = num_list[x]\n",
        "        for y in range(x, len(num_list)):\n",
        "            if min > num_list[y]:\n",
        "                min = num_list[y]\n",
        "                index = y\n",
        "                num_list[idx] = num_list[x]\n",
        "                num_list[x] = min\n",
        "\n",
        "    return num_list\n",
        "\n",
        "\n",
        "def bubble_sort(num_list):\n",
        "    for x in range(len(num_list)):\n",
        "        for y in range(len(num_list)-x-1):\n",
        "            if num_list[y] > num_list[y+1]:\n",
        "                temp = num_list[y]\n",
        "                num_list[y] = num_list[y+1]\n",
        "                num_list[y+1] = temp\n",
        "\n",
        "    return num_list\n",
        "\n",
        "\n",
        "n = int(input())\n",
        "num_list = []\n",
        "\n",
        "for _ in range(n):\n",
        "    num = int(input())\n",
        "    num_list.append(num)\n",
        "\n",
        "\n",
        "insertion_sorted_list = insertion_sort(num_list)\n",
        "print(\" \".join(map(str, insertion_sorted_list)))\n",
        "\n",
        "selection_sorted_list = selection_sort(num_list)\n",
        "print(\" \".join(map(str, selection_sorted_list)))\n",
        "\n",
        "bubble_sorted_list = bubble_sort(num_list)\n",
        "print(\" \".join(map(str, bubble_sorted_list)))"
      ],
      "execution_count": null,
      "outputs": [
        {
          "output_type": "stream",
          "text": [
            "5\n",
            "8\n",
            "6\n",
            "5\n",
            "2\n",
            "4\n",
            "2 4 5 6 8\n",
            "2 4 5 6 8\n",
            "2 4 5 6 8\n"
          ],
          "name": "stdout"
        }
      ]
    },
    {
      "cell_type": "code",
      "metadata": {
        "id": "qJegsnJlXwBU",
        "colab": {
          "base_uri": "https://localhost:8080/"
        },
        "outputId": "acc55e11-25d2-4c76-b8ed-583460b5ff0c"
      },
      "source": [
        "num_list = [8,5,6,2,4]\n",
        "for x in range(len(num_list)):\n",
        "    for y in range(x, len(num_list)):\n",
        "        print(x, y)"
      ],
      "execution_count": null,
      "outputs": [
        {
          "output_type": "stream",
          "text": [
            "0 0\n",
            "0 1\n",
            "0 2\n",
            "0 3\n",
            "0 4\n",
            "1 1\n",
            "1 2\n",
            "1 3\n",
            "1 4\n",
            "2 2\n",
            "2 3\n",
            "2 4\n",
            "3 3\n",
            "3 4\n",
            "4 4\n"
          ],
          "name": "stdout"
        }
      ]
    },
    {
      "cell_type": "code",
      "metadata": {
        "id": "_kTWFvnFAPFY"
      },
      "source": [
        ""
      ],
      "execution_count": null,
      "outputs": []
    }
  ]
}