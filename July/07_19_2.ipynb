{
  "nbformat": 4,
  "nbformat_minor": 0,
  "metadata": {
    "colab": {
      "name": "07/19_2.ipynb",
      "provenance": [],
      "collapsed_sections": [],
      "authorship_tag": "ABX9TyPDPRH7nNWn0WtymBFqKkbj",
      "include_colab_link": true
    },
    "kernelspec": {
      "name": "python3",
      "display_name": "Python 3"
    },
    "language_info": {
      "name": "python"
    }
  },
  "cells": [
    {
      "cell_type": "markdown",
      "metadata": {
        "id": "view-in-github",
        "colab_type": "text"
      },
      "source": [
        "<a href=\"https://colab.research.google.com/github/00kang/gis_algorithm/blob/main/July/07_19_2.ipynb\" target=\"_parent\"><img src=\"https://colab.research.google.com/assets/colab-badge.svg\" alt=\"Open In Colab\"/></a>"
      ]
    },
    {
      "cell_type": "markdown",
      "metadata": {
        "id": "pJZF8szV_aT3"
      },
      "source": [
        "<h3> 덱"
      ]
    },
    {
      "cell_type": "code",
      "metadata": {
        "colab": {
          "base_uri": "https://localhost:8080/"
        },
        "id": "W0eRayiQ_Ya_",
        "outputId": "313fab46-6c46-45b8-8f41-f3229d47e2be"
      },
      "source": [
        "from collections import deque\n",
        "deque_obj = deque()\n",
        "\n",
        "print(type(deque_obj))\n",
        "print(deque_obj)"
      ],
      "execution_count": 2,
      "outputs": [
        {
          "output_type": "stream",
          "text": [
            "<class 'collections.deque'>\n",
            "deque([])\n"
          ],
          "name": "stdout"
        }
      ]
    },
    {
      "cell_type": "code",
      "metadata": {
        "colab": {
          "base_uri": "https://localhost:8080/"
        },
        "id": "oc9jd3mY_dxN",
        "outputId": "8360b925-f3a9-445c-a45b-ee52d153a8d5"
      },
      "source": [
        "deque_obj.append(10)\n",
        "print(deque_obj)\n",
        "deque_obj.appendleft(300)\n",
        "print(deque_obj)\n",
        "\n",
        "deque_obj.pop()\n",
        "print(deque_obj)"
      ],
      "execution_count": 3,
      "outputs": [
        {
          "output_type": "stream",
          "text": [
            "deque([10])\n",
            "deque([300, 10])\n",
            "deque([300])\n"
          ],
          "name": "stdout"
        }
      ]
    },
    {
      "cell_type": "code",
      "metadata": {
        "id": "OnqUQbRM_hMA"
      },
      "source": [
        ""
      ],
      "execution_count": null,
      "outputs": []
    }
  ]
}