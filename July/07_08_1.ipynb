{
  "nbformat": 4,
  "nbformat_minor": 0,
  "metadata": {
    "colab": {
      "name": "07/08_1.ipynb",
      "provenance": [],
      "authorship_tag": "ABX9TyOUo2OJuOWr5ucW2GOGuYrw",
      "include_colab_link": true
    },
    "kernelspec": {
      "name": "python3",
      "display_name": "Python 3"
    },
    "language_info": {
      "name": "python"
    }
  },
  "cells": [
    {
      "cell_type": "markdown",
      "metadata": {
        "id": "view-in-github",
        "colab_type": "text"
      },
      "source": [
        "<a href=\"https://colab.research.google.com/github/00kang/gis_algorithm/blob/main/July/07_08_1.ipynb\" target=\"_parent\"><img src=\"https://colab.research.google.com/assets/colab-badge.svg\" alt=\"Open In Colab\"/></a>"
      ]
    },
    {
      "cell_type": "markdown",
      "metadata": {
        "id": "2GWuAunB1etH"
      },
      "source": [
        "<h3> 풀이2 _ 함수화_1"
      ]
    },
    {
      "cell_type": "code",
      "metadata": {
        "id": "laipQ676oCua",
        "colab": {
          "base_uri": "https://localhost:8080/"
        },
        "outputId": "c52986e0-8906-41c3-ed1c-47fb088033a5"
      },
      "source": [
        "def run_cmd_with_stack(stack, cmd):\n",
        "    cmd_type = cmd[0]\n",
        "    \n",
        "    if cmd_type == \"push\":\n",
        "        _, num = cmd\n",
        "        stack.append(int(num))\n",
        "    elif cmd_type == \"pop\":\n",
        "        if len(stack) > 0:\n",
        "            print(stack.pop())\n",
        "        else:\n",
        "            print(-1)\n",
        "    elif cmd_type == \"size\":\n",
        "        print(len(stack))\n",
        "    elif cmd_type == \"empty\":\n",
        "        if len(stack) > 0:\n",
        "            print(0)\n",
        "        else:\n",
        "            print(1)\n",
        "        # print(int(len(stack) <= 0))\n",
        "    elif cmd_type == \"top\":\n",
        "        if len(stack) > 0:\n",
        "            print(stack[-1])\n",
        "        else:\n",
        "            print(-1)\n",
        "    return stack\n",
        "\n",
        "stack = []\n",
        "n = int(input())\n",
        "\n",
        "for _ in range(n):\n",
        "    # \"push 2\".split() => [\"push\", \"2\"]\n",
        "    # \"size\".split() => [\"size\"]\n",
        "    command = input().split()\n",
        "    stack = run_cmd_with_stack(stack, command)\n",
        "    # print(stack)"
      ],
      "execution_count": null,
      "outputs": [
        {
          "output_type": "stream",
          "text": [
            "7\n",
            "pop\n",
            "-1\n",
            "top\n",
            "-1\n",
            "push 123\n",
            "top\n",
            "123\n",
            "pop\n",
            "123\n",
            "pop\n",
            "-1\n",
            "pop\n",
            "-1\n"
          ],
          "name": "stdout"
        }
      ]
    },
    {
      "cell_type": "markdown",
      "metadata": {
        "id": "h6_yh3Tw1mjy"
      },
      "source": [
        "<h3> 풀이3 _ 함수화_2"
      ]
    },
    {
      "cell_type": "code",
      "metadata": {
        "colab": {
          "base_uri": "https://localhost:8080/"
        },
        "id": "x-i1F5ej1pDo",
        "outputId": "0ed3379c-2aa6-4eb0-8b78-d1c4956bad5d"
      },
      "source": [
        "def run_cmd_with_stack(stack, stack_size,cmd):\n",
        "    cmd_type = cmd[0]\n",
        "    \n",
        "    if cmd_type == \"push\":\n",
        "        _, num = cmd\n",
        "        stack.append(int(num))\n",
        "        stack_size += 1\n",
        "\n",
        "    elif cmd_type == \"pop\":\n",
        "        if len(stack) > 0:\n",
        "            print(stack.pop())\n",
        "            stack_size -= 1\n",
        "        else:\n",
        "            print(-1)\n",
        "\n",
        "    elif cmd_type == \"size\":\n",
        "        print(stack_size)\n",
        "\n",
        "    elif cmd_type == \"empty\":\n",
        "        if stack_size > 0:\n",
        "            print(0)\n",
        "        else:\n",
        "            print(1)\n",
        "        # print(int(len(stack) <= 0))\n",
        "\n",
        "    elif cmd_type == \"top\":\n",
        "        if stack_size > 0:\n",
        "            print(stack[-1])\n",
        "        else:\n",
        "            print(-1)\n",
        "\n",
        "    return stack, stack_size\n",
        "\n",
        "stack = []\n",
        "n = int(input())\n",
        "stack_size = 0\n",
        "\n",
        "for _ in range(n):\n",
        "    # \"push 2\".split() => [\"push\", \"2\"]\n",
        "    # \"size\".split() => [\"size\"]\n",
        "    command = input().split()\n",
        "    stack, stack_size = run_cmd_with_stack(stack, stack_size, command)\n",
        "    # print(stack)"
      ],
      "execution_count": null,
      "outputs": [
        {
          "output_type": "stream",
          "text": [
            "7\n",
            "push 1\n",
            "push 2\n",
            "top\n",
            "2\n",
            "pop\n",
            "2\n",
            "pop\n",
            "1\n",
            "pop\n",
            "-1\n",
            "size\n",
            "0\n"
          ],
          "name": "stdout"
        }
      ]
    },
    {
      "cell_type": "markdown",
      "metadata": {
        "id": "895mMo-iIG0V"
      },
      "source": [
        "<h3> 풀이4 _ 클래스화"
      ]
    },
    {
      "cell_type": "code",
      "metadata": {
        "colab": {
          "base_uri": "https://localhost:8080/"
        },
        "id": "cyybDFX32Q3K",
        "outputId": "61a04ca0-a33d-4fe8-e192-54d9f0de04f9"
      },
      "source": [
        "class Stack:\n",
        "    def __init__(self):\n",
        "        self.stack = []\n",
        "        self.stack_size = 0\n",
        "\n",
        "    def push(self, num):\n",
        "        self.stack.append(int(num))\n",
        "        self.stack_size += 1\n",
        "\n",
        "    def pop(self):\n",
        "        if self.stack_size > 0:\n",
        "            self.stack_size -= 1\n",
        "            return self.stack.pop()\n",
        "        return -1\n",
        "\n",
        "    def size(self):\n",
        "        return self.stack_size\n",
        "\n",
        "    def empty(self):\n",
        "        if self.stack_size > 0:\n",
        "            return 0\n",
        "        return 1\n",
        "        # return int(self.stack_size <= 0)\n",
        "\n",
        "    def top(self):\n",
        "        if self.stack_size > 0:\n",
        "            return self.stack[self.stack_size-1]\n",
        "        return -1\n",
        "\n",
        "def run_cmd_with_stack(my_stack, cmd):\n",
        "    cmd_type = cmd[0]\n",
        "\n",
        "    if cmd_type == \"push\":\n",
        "        _, num = cmd # num = cmd[1]\n",
        "        my_stack.push(num)\n",
        "    elif cmd_type == \"pop\":\n",
        "        print(my_stack.pop())\n",
        "    elif cmd_type == \"size\":\n",
        "        print(my_stack.size())\n",
        "    elif cmd_type == \"empty\":\n",
        "        print(my_stack.empty())\n",
        "    elif cmd_type == \"top\":\n",
        "        print(my_stack.top())\n",
        "\n",
        "    return my_stack\n",
        "\n",
        "my_stack = Stack()\n",
        "n = int(input())\n",
        "\n",
        "for _ in range(n):\n",
        "    # \"push 2\".split() => [\"push\", \"2\"]\n",
        "    # \"size\".split() => [\"size\"]\n",
        "    command = input().split()\n",
        "    my_stack = run_cmd_with_stack(my_stack, command)"
      ],
      "execution_count": null,
      "outputs": [
        {
          "output_type": "stream",
          "text": [
            "7\n",
            "push 1\n",
            "push 2\n",
            "top\n",
            "2\n",
            "pop\n",
            "2\n",
            "pop\n",
            "1\n",
            "pop\n",
            "-1\n",
            "size\n",
            "0\n"
          ],
          "name": "stdout"
        }
      ]
    },
    {
      "cell_type": "code",
      "metadata": {
        "id": "T3-PvnWYIbDM"
      },
      "source": [
        ""
      ],
      "execution_count": null,
      "outputs": []
    }
  ]
}