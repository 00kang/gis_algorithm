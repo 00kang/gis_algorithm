{
  "nbformat": 4,
  "nbformat_minor": 0,
  "metadata": {
    "colab": {
      "name": "07/13.ipynb",
      "provenance": [],
      "collapsed_sections": [],
      "authorship_tag": "ABX9TyM5BYTRFLhr0xQeCsaVVbX2",
      "include_colab_link": true
    },
    "kernelspec": {
      "name": "python3",
      "display_name": "Python 3"
    },
    "language_info": {
      "name": "python"
    }
  },
  "cells": [
    {
      "cell_type": "markdown",
      "metadata": {
        "id": "view-in-github",
        "colab_type": "text"
      },
      "source": [
        "<a href=\"https://colab.research.google.com/github/00kang/gis_algorithm/blob/main/07_13.ipynb\" target=\"_parent\"><img src=\"https://colab.research.google.com/assets/colab-badge.svg\" alt=\"Open In Colab\"/></a>"
      ]
    },
    {
      "cell_type": "markdown",
      "metadata": {
        "id": "U3TKdLBnmSJN"
      },
      "source": [
        "<h3> 풀이5 _ 클래스화(T.ver)"
      ]
    },
    {
      "cell_type": "code",
      "metadata": {
        "colab": {
          "base_uri": "https://localhost:8080/"
        },
        "id": "H1BzFvIHluRe",
        "outputId": "3a383226-162c-4676-f8ca-55199ff15a8c"
      },
      "source": [
        "class Stack:\n",
        "    def __init__(self, n):\n",
        "        self.stack = [None for _ in range(n)]\n",
        "        self.stack_size = 0\n",
        "\n",
        "    def push(self, num):\n",
        "        self.stack[self.stack_size] = int(num)\n",
        "        self.stack_size += 1\n",
        "\n",
        "    def pop(self):\n",
        "        if self.size() > 0:\n",
        "            last_val = self.top()\n",
        "            self.stack[self.stack_size - 1] = None\n",
        "            self.stack_size -= 1\n",
        "            return last_val\n",
        "        return -1\n",
        "\n",
        "    def size(self):\n",
        "        return self.stack_size\n",
        "    \n",
        "    def empty(self):\n",
        "        if self.size() > 0:\n",
        "            return 0\n",
        "        return 1\n",
        "\n",
        "    def top(self):\n",
        "        if self.stack_size > 0:\n",
        "            return self.stack[self.stack_size - 1]\n",
        "        return -1\n",
        "\n",
        "def run_cmd_with_stack(my_stack, cmd):\n",
        "    cmd_type = cmd[0]\n",
        "\n",
        "    if cmd_type == \"push\":\n",
        "        _, num = cmd\n",
        "        my_stack.push(num)\n",
        "    elif cmd_type == \"pop\":\n",
        "        print(my_stack.pop())\n",
        "    elif cmd_type == \"size\":\n",
        "        print(my_stack.size())\n",
        "    elif cmd_type == \"empty\":\n",
        "        print(my_stack.empty())\n",
        "    elif cmd_type == \"top\":\n",
        "        print(my_stack.top())\n",
        "\n",
        "    return my_stack\n",
        "\n",
        "n = int(input())\n",
        "my_stack = Stack(n)\n",
        "\n",
        "for _ in range(n):\n",
        "    command = input().split()\n",
        "    my_stack = run_cmd_with_stack(my_stack, command)"
      ],
      "execution_count": 2,
      "outputs": [
        {
          "output_type": "stream",
          "text": [
            "14\n",
            "push 1\n",
            "push 2\n",
            "top\n",
            "2\n",
            "size\n",
            "2\n",
            "empty\n",
            "0\n",
            "pop\n",
            "2\n",
            "pop\n",
            "1\n",
            "pop\n",
            "-1\n",
            "size\n",
            "0\n",
            "empty\n",
            "1\n",
            "pop\n",
            "-1\n",
            "push 3\n",
            "empty\n",
            "0\n",
            "top\n",
            "3\n"
          ],
          "name": "stdout"
        }
      ]
    },
    {
      "cell_type": "code",
      "metadata": {
        "id": "QzvQPG0C5vAw"
      },
      "source": [
        ""
      ],
      "execution_count": null,
      "outputs": []
    }
  ]
}
