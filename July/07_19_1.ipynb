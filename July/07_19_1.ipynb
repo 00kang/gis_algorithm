{
  "nbformat": 4,
  "nbformat_minor": 0,
  "metadata": {
    "colab": {
      "name": "07/19_1.ipynb",
      "provenance": [],
      "collapsed_sections": [],
      "authorship_tag": "ABX9TyNM/X3imZ2QzIjAJvUF1qqa",
      "include_colab_link": true
    },
    "kernelspec": {
      "name": "python3",
      "display_name": "Python 3"
    },
    "language_info": {
      "name": "python"
    }
  },
  "cells": [
    {
      "cell_type": "markdown",
      "metadata": {
        "id": "view-in-github",
        "colab_type": "text"
      },
      "source": [
        "<a href=\"https://colab.research.google.com/github/00kang/gis_algorithm/blob/main/July/07_19_1.ipynb\" target=\"_parent\"><img src=\"https://colab.research.google.com/assets/colab-badge.svg\" alt=\"Open In Colab\"/></a>"
      ]
    },
    {
      "cell_type": "markdown",
      "metadata": {
        "id": "89x05HRS94Cw"
      },
      "source": [
        "<h3> 풀이2 _ 함수화(T.ver)"
      ]
    },
    {
      "cell_type": "code",
      "metadata": {
        "colab": {
          "base_uri": "https://localhost:8080/"
        },
        "id": "wPact9cd8nnf",
        "outputId": "ebbf11e2-0034-441d-b97e-f8c2523f29a7"
      },
      "source": [
        "def run_cmd_with_stack(cmd, queue):\n",
        "    cmd_type = cmd[0]\n",
        "    # cmd_type, num = cmd\n",
        "\n",
        "    if cmd_type == \"push\":\n",
        "        _, num = cmd\n",
        "        queue.append(num)\n",
        "    elif cmd_type == \"pop\":\n",
        "        if len(queue) > 0:\n",
        "            print(queue.pop(0))\n",
        "        else:\n",
        "            print(-1)\n",
        "    elif cmd_type == \"size\":\n",
        "        print(len(queue))\n",
        "    elif cmd_type == \"empty\":\n",
        "        if len(queue) > 0:\n",
        "            print(0)\n",
        "        else:\n",
        "            print(1)\n",
        "    elif cmd_type == \"front\":\n",
        "        if len(queue) > 0:\n",
        "            print(queue[0])\n",
        "        else:\n",
        "            print(-1)\n",
        "    elif cmd_type == \"back\":\n",
        "        if len(queue) > 0:\n",
        "            print(queue[-1])\n",
        "        else:\n",
        "            print(-1)\n",
        "     \n",
        "    # return queue\n",
        "\n",
        "n = int(input())\n",
        "queue = []\n",
        "\n",
        "for _ in range(n):\n",
        "    command = input().split()\n",
        "    run_cmd_with_stack(command, queue)\n",
        "\n",
        "    # queue = run_cmd_with_stack(command, queue)"
      ],
      "execution_count": 1,
      "outputs": [
        {
          "output_type": "stream",
          "text": [
            "15\n",
            "push 1\n",
            "push 2\n",
            "front\n",
            "1\n",
            "back\n",
            "2\n",
            "size\n",
            "2\n",
            "empty\n",
            "0\n",
            "pop\n",
            "1\n",
            "pop\n",
            "2\n",
            "pop\n",
            "-1\n",
            "size\n",
            "0\n",
            "empty\n",
            "1\n",
            "pop\n",
            "-1\n",
            "push 3\n",
            "empty\n",
            "0\n",
            "front\n",
            "3\n"
          ],
          "name": "stdout"
        }
      ]
    },
    {
      "cell_type": "code",
      "metadata": {
        "id": "XHojA7bS9qBQ"
      },
      "source": [
        ""
      ],
      "execution_count": null,
      "outputs": []
    },
    {
      "cell_type": "markdown",
      "metadata": {
        "id": "9uy4UBGZ-Ewu"
      },
      "source": [
        "<h3> 풀이3 _ 클래스화"
      ]
    },
    {
      "cell_type": "code",
      "metadata": {
        "colab": {
          "base_uri": "https://localhost:8080/"
        },
        "id": "pVp3Gd5G-G24",
        "outputId": "a52f6a8a-4723-4bc0-89c8-8f13b011c22b"
      },
      "source": [
        "class Queue:\n",
        "    def __init__(self, n):\n",
        "        #self.array = [None] * next\n",
        "        self.array = [None for _ in range(n)]\n",
        "        self.f_idx = 0\n",
        "        self.b_idx = 0\n",
        "        #queue의 영역 = f_idx ~ (b_idx-1)\n",
        "\n",
        "    def push(self, num):\n",
        "        self.array[self.b_idx] = num\n",
        "        self.b_idx += 1\n",
        "\n",
        "    def pop(self):\n",
        "        #if self.f_idx == self.b_idx:\n",
        "        #if self.f_idx - self.b_idx == 0:\n",
        "        #if self.size() == 0:\n",
        "        if self.is_empty():\n",
        "            return -1\n",
        "\n",
        "        last_val = self.array[self.f_idx]\n",
        "        self.f_idx += 1\n",
        "        return last_val\n",
        "        #2)\n",
        "        #self.f_idx +=1\n",
        "        #return self.array[self.f_idx - 1]\n",
        "        \n",
        "    def size(self):\n",
        "        return self.b_idx - self.f_idx\n",
        "        \n",
        "    def empty(self):\n",
        "        return int(self.is_empty())\n",
        "\n",
        "    def is_empty(self):\n",
        "        return self.size() == 0\n",
        "\n",
        "    def front(self):\n",
        "        if self.is_empty():\n",
        "            return -1\n",
        "        return self.array[self.f_idx]\n",
        "\n",
        "    def back(self):\n",
        "        if self.is_empty():\n",
        "            return -1\n",
        "        return self.array[self.b_idx - 1]\n",
        "        \n",
        "\n",
        "\n",
        "def run_cmd_with_queue(command, queue_obj):\n",
        "    cmd_type = command[0]\n",
        "\n",
        "    if cmd_type == \"push\":\n",
        "        _, num = command\n",
        "        queue_obj.push(int(num))\n",
        "    elif cmd_type == \"pop\":\n",
        "        print(queue_obj.pop())\n",
        "    elif cmd_type == \"size\":\n",
        "        print(queue_obj.size())\n",
        "    elif cmd_type == \"empty\":\n",
        "        print(queue_obj.empty())   \n",
        "        #print(int(self.is_empty())) \n",
        "    elif cmd_type == \"front\":\n",
        "        print(queue_obj.front())\n",
        "    elif cmd_type == \"back\":\n",
        "        print(queue_obj.back())\n",
        "\n",
        "n = int(input())\n",
        "queue_obj = Queue(n)\n",
        "\n",
        "for _ in range(n):\n",
        "    run_cmd_with_queue(input().split(), queue_obj)"
      ],
      "execution_count": 4,
      "outputs": [
        {
          "output_type": "stream",
          "text": [
            "15\n",
            "push 1\n",
            "push 2\n",
            "front\n",
            "1\n",
            "back\n",
            "2\n",
            "size\n",
            "2\n",
            "empty\n",
            "0\n",
            "pop\n",
            "1\n",
            "pop\n",
            "2\n",
            "pop\n",
            "-1\n",
            "size\n",
            "0\n",
            "empty\n",
            "1\n",
            "pop\n",
            "-1\n",
            "push 3\n",
            "empty\n",
            "0\n",
            "front\n",
            "3\n"
          ],
          "name": "stdout"
        }
      ]
    },
    {
      "cell_type": "code",
      "metadata": {
        "id": "aUy9R4Rh-vQ2"
      },
      "source": [
        ""
      ],
      "execution_count": null,
      "outputs": []
    }
  ]
}